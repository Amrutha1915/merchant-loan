{
 "cells": [
  {
   "cell_type": "code",
   "execution_count": 31,
   "metadata": {},
   "outputs": [
    {
     "name": "stdout",
     "output_type": "stream",
     "text": [
      "Connection established\n",
      "   id    name gender\n",
      "0   1    john      M\n",
      "1   2  michel      M\n",
      "2   3  stephn      M\n",
      "3   4   marry      F\n",
      "4   5   angel      F\n"
     ]
    }
   ],
   "source": [
    "import configparser\n",
    "import pandas as pd\n",
    "import psycopg2\n",
    "import os\n",
    "from sqlalchemy import create_engine\n",
    "from dotenv import load_dotenv\n",
    "\n",
    "def retrieve_member(sb):\n",
    "    from sqlalchemy import create_engine\n",
    "    import pandas as pd\n",
    "    config = configparser.ConfigParser()\n",
    "    config.read('credentials.cfg')\n",
    "    try:\n",
    "            #Database connection parameters\n",
    "            DATABASE_TYPE = 'postgresql'\n",
    "            DBAPI = 'psycopg2'\n",
    "            ENDPOINT = config['postgres']['local_HOST'] # e.g., localhost or remote server\n",
    "            USER = config['postgres']['postgres']\n",
    "            PASSWORD = config['postgres']['Saibaba.1915']\n",
    "            PORT = 5433 # Default PostgreSQL port\n",
    "            DATABASE = config['postgres']['postgres']\n",
    "    except Exception as e:\n",
    "              \n",
    "      print('Connecting to the PostgreSQL database...')\n",
    "#Creating the engine\n",
    "engine=create_engine(f'postgresql+psycopg2://{'postgres'}:{'Saibaba.1915'}@{'localhost'}:{5433}/{'postgres'}')\n",
    "print('Connection established')\n",
    "    \n",
    "   #query to retrieve the data\n",
    "\n",
    "query = \"SELECT * FROM employe;\"\n",
    "\n",
    "df_postgres = pd.read_sql(query, engine)\n",
    "df_postgres.to_csv('transactions_from_db.csv', index=False)\n",
    "print(df_postgres.head())\n",
    "\n",
    "\n",
    "\n",
    "\n",
    "\n",
    "\n",
    "        \n"
   ]
  },
  {
   "cell_type": "code",
   "execution_count": null,
   "metadata": {},
   "outputs": [],
   "source": []
  }
 ],
 "metadata": {
  "kernelspec": {
   "display_name": "Python 3",
   "language": "python",
   "name": "python3"
  },
  "language_info": {
   "codemirror_mode": {
    "name": "ipython",
    "version": 3
   },
   "file_extension": ".py",
   "mimetype": "text/x-python",
   "name": "python",
   "nbconvert_exporter": "python",
   "pygments_lexer": "ipython3",
   "version": "3.13.1"
  }
 },
 "nbformat": 4,
 "nbformat_minor": 2
}
